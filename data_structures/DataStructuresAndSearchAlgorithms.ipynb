{
 "cells": [
  {
   "cell_type": "markdown",
   "metadata": {},
   "source": [
    "#### The Stack Data Structures\n",
    "Is a data structure in which all insertions and deletations are made at one end, called the top end of the stack.\n",
    "\n",
    "Stack is a LIFO (last in first out) structure.\n",
    "\n",
    "### Operations\n",
    "* push(item): to push an item to the top of the stack\n",
    "* pop(item): to return and remove the top item\n",
    "* peek(item): to return the item at the top of the stack without removing it\n",
    "* isEmpty(item): returns True if the stack is empty\n",
    "\n",
    "In practical situation you may just use a python list."
   ]
  },
  {
   "cell_type": "code",
   "execution_count": 15,
   "metadata": {},
   "outputs": [
    {
     "name": "stdout",
     "output_type": "stream",
     "text": [
      "[]\n",
      "['a']\n",
      "['a', 'b', 1]\n",
      "1\n",
      "['a', 'b']\n",
      "False\n",
      "2\n",
      "['__class__', '__delattr__', '__dict__', '__dir__', '__doc__', '__eq__', '__format__', '__ge__', '__getattribute__', '__gt__', '__hash__', '__init__', '__init_subclass__', '__le__', '__lt__', '__module__', '__ne__', '__new__', '__reduce__', '__reduce_ex__', '__repr__', '__setattr__', '__sizeof__', '__str__', '__subclasshook__', '__weakref__', 'isEmpty', 'peek', 'pop', 'push', 'size']\n"
     ]
    }
   ],
   "source": [
    "class Stack():\n",
    "    def __init__(self):\n",
    "        self.items = []\n",
    "    \n",
    "    def isEmpty(self):\n",
    "        return len(self.items) == 0\n",
    "    \n",
    "    def push(self, item):\n",
    "        self.items.append(item)\n",
    "        \n",
    "    def pop(self):\n",
    "        return self.items.pop()\n",
    "    \n",
    "    def peek(self):\n",
    "        return self.items[-1]\n",
    "    \n",
    "    def size(self):\n",
    "        return len(self.items)\n",
    "    \n",
    "    def __str__(self):\n",
    "        return str(self.items)\n",
    "    \n",
    "if __name__ == '__main__':\n",
    "    s1 = Stack()\n",
    "    print (s1)\n",
    "    \n",
    "    s1.push('a')\n",
    "    \n",
    "    print(s1)\n",
    "    \n",
    "    s1.push('b')\n",
    "    s1.push(1)\n",
    "    \n",
    "    print(s1)\n",
    "    \n",
    "    print(s1.pop())\n",
    "    \n",
    "    print(s1)\n",
    "    \n",
    "    print(s1.isEmpty())\n",
    "    \n",
    "    print(s1.size())\n",
    "    \n",
    "    print(dir(Stack))\n",
    "    \n",
    "    \n",
    "        "
   ]
  },
  {
   "cell_type": "markdown",
   "metadata": {},
   "source": [
    "### Depth-First Search Algorithm\n",
    "\n",
    "is an algorithm for traversing or searching tree or graph data structures. The algorithm starts at the root node and selecting an arbitrary node as the root node in the case of a graph and explores as far as possible along each branch before backtracking. <br>\n",
    "\n",
    "\n",
    "The two data structures used in the algorithm are:<br>\n",
    "Stack: [start_pos] <br>\n",
    "Predecessors: {start_pos: None}\n",
    "\n",
    "#### Algorithm\n",
    "* pop the stack\n",
    "* Is this the goal?\n",
    "* If so, we are done\n",
    "* Otherwise, push undiscovered neighbors onto the stack and add them to predecessors/discovered\n",
    "* Repeat while there are items still on the stack\n"
   ]
  },
  {
   "cell_type": "markdown",
   "metadata": {},
   "source": [
    "### The Queue Data Structure\n",
    "Is a FIFO (First In First Out) algorithm\n"
   ]
  },
  {
   "cell_type": "code",
   "execution_count": 29,
   "metadata": {},
   "outputs": [
    {
     "name": "stdout",
     "output_type": "stream",
     "text": [
      "[]\n",
      "['a']\n",
      "['a', 'b']\n",
      "a\n",
      "['b']\n",
      "False\n",
      "1\n",
      "['__class__', '__delattr__', '__dict__', '__dir__', '__doc__', '__eq__', '__format__', '__ge__', '__getattribute__', '__gt__', '__hash__', '__init__', '__init_subclass__', '__le__', '__lt__', '__module__', '__ne__', '__new__', '__reduce__', '__reduce_ex__', '__repr__', '__setattr__', '__sizeof__', '__str__', '__subclasshook__', '__weakref__', 'dequeue', 'enqueue', 'isEmpty', 'peek', 'size']\n"
     ]
    }
   ],
   "source": [
    "class Queue():\n",
    "    def __init__(self):\n",
    "        self.items = []\n",
    "    \n",
    "    def isEmpty(self):\n",
    "        return len(self.items) == 0\n",
    "        \n",
    "    def enqueue(self, item):\n",
    "        self.items.append(item)\n",
    "    \n",
    "    def dequeue(self):\n",
    "        return self.items.pop(0)\n",
    "    \n",
    "    def size(self):\n",
    "        return len(self.items)\n",
    "    \n",
    "    def peek(self):\n",
    "        return self.items[0]\n",
    "    \n",
    "    def __str__(self):\n",
    "        return str(self.items)\n",
    "    \n",
    "if __name__ == '__main__':\n",
    "    q1 = Queue()\n",
    "    print (q1)\n",
    "    \n",
    "    q1.enqueue('a')\n",
    "    \n",
    "    print(q1)\n",
    "    \n",
    "    q1.enqueue('b')\n",
    "    \n",
    "    print(q1)\n",
    "    \n",
    "    print(q1.dequeue())\n",
    "    \n",
    "    print(q1)\n",
    "    \n",
    "    print(q1.isEmpty())\n",
    "    \n",
    "    print(q1.size())\n",
    "    \n",
    "    print(dir(Queue)) "
   ]
  },
  {
   "cell_type": "markdown",
   "metadata": {},
   "source": [
    "### The Breadth-First Search Algorithm\n",
    "Is an algorithm for searching a tree data structure for a node that satisfies a given properties. It starts at the root and explores all nodes at the present depth prior to moving on to the nodes at the next depth level. Extra memory is normally needed to keep track of the child nodes that were encountered but not yet explored.\n",
    "\n",
    "The two data structures used in the algorithm are:<br>\n",
    "Queue: [start_pos] <br>\n",
    "\n",
    "#### Algorithm\n",
    "* Is this the goal?\n",
    "* If so, we are done\n",
    "* Otherwise, enqueue undiscovered neighbors and update the predecessors\n",
    "* Repeat while there are items still on the queue"
   ]
  },
  {
   "cell_type": "markdown",
   "metadata": {},
   "source": [
    "### The Priority Queue Data Structure\n",
    "is an abstract data-type similar to a regular queue or stack data structure in which each element additionally has a priority associated with it. In a priority queue an element with high priority is served before an element with low priority. In some implementations, if two elements have the same priority, they are served according to the order in which they were enqueued."
   ]
  },
  {
   "cell_type": "code",
   "execution_count": 56,
   "metadata": {},
   "outputs": [
    {
     "name": "stdout",
     "output_type": "stream",
     "text": [
      "[]\n",
      "[[2, 'b'], [3, 'c'], [5, 'd'], [11, 'a']]\n",
      "b\n",
      "[[3, 'c'], [5, 'd'], [11, 'a']]\n",
      "c\n",
      "[[5, 'd'], [11, 'a']]\n"
     ]
    }
   ],
   "source": [
    "class PriorityQueue():\n",
    "    def __init__(self):\n",
    "        self.elements = []\n",
    "        \n",
    "    def isEmpty(self):\n",
    "        return len(self.elements) == 0\n",
    "    \n",
    "    def put(self, priority, item):\n",
    "        self.elements.append([priority, item])\n",
    "        self.elements.sort(key= lambda y:y[0])\n",
    "        \n",
    "    def get(self):\n",
    "        return self.elements.pop(0)[1]\n",
    "    \n",
    "    \n",
    "    \n",
    "        \n",
    "    def __str__(self):\n",
    "        return str(self.elements)\n",
    "    \n",
    "if __name__ == '__main__':\n",
    "    pq1 = PriorityQueue()\n",
    "    print(pq1)\n",
    "    \n",
    "    pq1.put(11, 'a')\n",
    "    pq1.put(2, 'b')\n",
    "    pq1.put(3, 'c')\n",
    "    pq1.put(5, 'd')\n",
    "    print (pq1)\n",
    "    print(pq1.get())\n",
    "    print(pq1)\n",
    "    print(pq1.get())\n",
    "    print(pq1)\n",
    "    \n",
    "    \n",
    "    \n",
    "    "
   ]
  },
  {
   "cell_type": "markdown",
   "metadata": {},
   "source": [
    "### The A* Search Algorith\n",
    "is a graph traversal and path search algorithm, which is often used in many fields of computer science due to its completeness, optimality, and optimal efficiency.\n",
    "\n",
    "#### Algorithm\n",
    "PQ: [[cell, F-value]]\n",
    "\n",
    "* Get highest pririty item from PQ (minimum F-value)\n",
    "* Is it the goal?\n",
    "* If so, we are done.\n",
    "* Otherwise: put undiscovered neighbours, calculate f-values, and update the predecessors\n",
    "* Rpeat until queue is empty."
   ]
  }
 ],
 "metadata": {
  "kernelspec": {
   "display_name": "Python 3 (ipykernel)",
   "language": "python",
   "name": "python3"
  },
  "language_info": {
   "codemirror_mode": {
    "name": "ipython",
    "version": 3
   },
   "file_extension": ".py",
   "mimetype": "text/x-python",
   "name": "python",
   "nbconvert_exporter": "python",
   "pygments_lexer": "ipython3",
   "version": "3.9.7"
  }
 },
 "nbformat": 4,
 "nbformat_minor": 2
}
